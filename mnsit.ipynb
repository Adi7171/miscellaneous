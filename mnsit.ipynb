{
  "nbformat": 4,
  "nbformat_minor": 0,
  "metadata": {
    "colab": {
      "name": "fashion_mnsit.ipynb",
      "provenance": [],
      "collapsed_sections": [],
      "authorship_tag": "ABX9TyM5xLfMuPKxJSr/fI9Fthbe"
    },
    "kernelspec": {
      "name": "python3",
      "display_name": "Python 3"
    },
    "language_info": {
      "name": "python"
    },
    "accelerator": "GPU"
  },
  "cells": [
    {
      "cell_type": "code",
      "execution_count": 1,
      "metadata": {
        "id": "NV_HgbpcOvVE"
      },
      "outputs": [],
      "source": [
        "import tensorflow as tf\n",
        "import matplotlib.pyplot as plt\n",
        "import numpy as np\n",
        "from tensorflow.keras.layers import Conv2D,Input,Dense,MaxPool2D,BatchNormalization,Flatten,GlobalAvgPool2D"
      ]
    },
    {
      "cell_type": "markdown",
      "source": [
        "# how to create deep learning models\n",
        "- tensorflow .keras .sequential\n",
        "- functional approach: function that returns a model\n",
        "\n",
        "- tenosrflow.keras.Model :inherit from a base class, you override some of it and use"
      ],
      "metadata": {
        "id": "TBSK3vHVTTsj"
      }
    },
    {
      "cell_type": "code",
      "source": [
        "(x_train,y_train),(x_test,y_test) = tf.keras.datasets.mnist.load_data()"
      ],
      "metadata": {
        "colab": {
          "base_uri": "https://localhost:8080/"
        },
        "id": "TI7AYKnSO6GG",
        "outputId": "7ea29bb1-8ffd-401e-d159-60b23e2c2413"
      },
      "execution_count": 2,
      "outputs": [
        {
          "output_type": "stream",
          "name": "stdout",
          "text": [
            "Downloading data from https://storage.googleapis.com/tensorflow/tf-keras-datasets/mnist.npz\n",
            "11493376/11490434 [==============================] - 0s 0us/step\n",
            "11501568/11490434 [==============================] - 0s 0us/step\n"
          ]
        }
      ]
    },
    {
      "cell_type": "code",
      "source": [
        "print(x_train.shape)\n",
        "print(y_train.shape)\n",
        "print(x_test.shape)\n",
        "print(y_test.shape)"
      ],
      "metadata": {
        "colab": {
          "base_uri": "https://localhost:8080/"
        },
        "id": "Eht9wlj_PEwx",
        "outputId": "91b4252f-05c9-406a-9fd4-480058a9f579"
      },
      "execution_count": 3,
      "outputs": [
        {
          "output_type": "stream",
          "name": "stdout",
          "text": [
            "(60000, 28, 28)\n",
            "(60000,)\n",
            "(10000, 28, 28)\n",
            "(10000,)\n"
          ]
        }
      ]
    },
    {
      "cell_type": "code",
      "source": [
        "x_train[1]"
      ],
      "metadata": {
        "colab": {
          "base_uri": "https://localhost:8080/"
        },
        "id": "FSFO5Nu3QLrx",
        "outputId": "55be61d0-d041-434d-937f-cb11b20a6dac"
      },
      "execution_count": 4,
      "outputs": [
        {
          "output_type": "execute_result",
          "data": {
            "text/plain": [
              "array([[  0,   0,   0,   0,   0,   0,   0,   0,   0,   0,   0,   0,   0,\n",
              "          0,   0,   0,   0,   0,   0,   0,   0,   0,   0,   0,   0,   0,\n",
              "          0,   0],\n",
              "       [  0,   0,   0,   0,   0,   0,   0,   0,   0,   0,   0,   0,   0,\n",
              "          0,   0,   0,   0,   0,   0,   0,   0,   0,   0,   0,   0,   0,\n",
              "          0,   0],\n",
              "       [  0,   0,   0,   0,   0,   0,   0,   0,   0,   0,   0,   0,   0,\n",
              "          0,   0,   0,   0,   0,   0,   0,   0,   0,   0,   0,   0,   0,\n",
              "          0,   0],\n",
              "       [  0,   0,   0,   0,   0,   0,   0,   0,   0,   0,   0,   0,   0,\n",
              "          0,   0,   0,   0,   0,   0,   0,   0,   0,   0,   0,   0,   0,\n",
              "          0,   0],\n",
              "       [  0,   0,   0,   0,   0,   0,   0,   0,   0,   0,   0,   0,   0,\n",
              "          0,   0,  51, 159, 253, 159,  50,   0,   0,   0,   0,   0,   0,\n",
              "          0,   0],\n",
              "       [  0,   0,   0,   0,   0,   0,   0,   0,   0,   0,   0,   0,   0,\n",
              "          0,  48, 238, 252, 252, 252, 237,   0,   0,   0,   0,   0,   0,\n",
              "          0,   0],\n",
              "       [  0,   0,   0,   0,   0,   0,   0,   0,   0,   0,   0,   0,   0,\n",
              "         54, 227, 253, 252, 239, 233, 252,  57,   6,   0,   0,   0,   0,\n",
              "          0,   0],\n",
              "       [  0,   0,   0,   0,   0,   0,   0,   0,   0,   0,   0,  10,  60,\n",
              "        224, 252, 253, 252, 202,  84, 252, 253, 122,   0,   0,   0,   0,\n",
              "          0,   0],\n",
              "       [  0,   0,   0,   0,   0,   0,   0,   0,   0,   0,   0, 163, 252,\n",
              "        252, 252, 253, 252, 252,  96, 189, 253, 167,   0,   0,   0,   0,\n",
              "          0,   0],\n",
              "       [  0,   0,   0,   0,   0,   0,   0,   0,   0,   0,  51, 238, 253,\n",
              "        253, 190, 114, 253, 228,  47,  79, 255, 168,   0,   0,   0,   0,\n",
              "          0,   0],\n",
              "       [  0,   0,   0,   0,   0,   0,   0,   0,   0,  48, 238, 252, 252,\n",
              "        179,  12,  75, 121,  21,   0,   0, 253, 243,  50,   0,   0,   0,\n",
              "          0,   0],\n",
              "       [  0,   0,   0,   0,   0,   0,   0,   0,  38, 165, 253, 233, 208,\n",
              "         84,   0,   0,   0,   0,   0,   0, 253, 252, 165,   0,   0,   0,\n",
              "          0,   0],\n",
              "       [  0,   0,   0,   0,   0,   0,   0,   7, 178, 252, 240,  71,  19,\n",
              "         28,   0,   0,   0,   0,   0,   0, 253, 252, 195,   0,   0,   0,\n",
              "          0,   0],\n",
              "       [  0,   0,   0,   0,   0,   0,   0,  57, 252, 252,  63,   0,   0,\n",
              "          0,   0,   0,   0,   0,   0,   0, 253, 252, 195,   0,   0,   0,\n",
              "          0,   0],\n",
              "       [  0,   0,   0,   0,   0,   0,   0, 198, 253, 190,   0,   0,   0,\n",
              "          0,   0,   0,   0,   0,   0,   0, 255, 253, 196,   0,   0,   0,\n",
              "          0,   0],\n",
              "       [  0,   0,   0,   0,   0,   0,  76, 246, 252, 112,   0,   0,   0,\n",
              "          0,   0,   0,   0,   0,   0,   0, 253, 252, 148,   0,   0,   0,\n",
              "          0,   0],\n",
              "       [  0,   0,   0,   0,   0,   0,  85, 252, 230,  25,   0,   0,   0,\n",
              "          0,   0,   0,   0,   0,   7, 135, 253, 186,  12,   0,   0,   0,\n",
              "          0,   0],\n",
              "       [  0,   0,   0,   0,   0,   0,  85, 252, 223,   0,   0,   0,   0,\n",
              "          0,   0,   0,   0,   7, 131, 252, 225,  71,   0,   0,   0,   0,\n",
              "          0,   0],\n",
              "       [  0,   0,   0,   0,   0,   0,  85, 252, 145,   0,   0,   0,   0,\n",
              "          0,   0,   0,  48, 165, 252, 173,   0,   0,   0,   0,   0,   0,\n",
              "          0,   0],\n",
              "       [  0,   0,   0,   0,   0,   0,  86, 253, 225,   0,   0,   0,   0,\n",
              "          0,   0, 114, 238, 253, 162,   0,   0,   0,   0,   0,   0,   0,\n",
              "          0,   0],\n",
              "       [  0,   0,   0,   0,   0,   0,  85, 252, 249, 146,  48,  29,  85,\n",
              "        178, 225, 253, 223, 167,  56,   0,   0,   0,   0,   0,   0,   0,\n",
              "          0,   0],\n",
              "       [  0,   0,   0,   0,   0,   0,  85, 252, 252, 252, 229, 215, 252,\n",
              "        252, 252, 196, 130,   0,   0,   0,   0,   0,   0,   0,   0,   0,\n",
              "          0,   0],\n",
              "       [  0,   0,   0,   0,   0,   0,  28, 199, 252, 252, 253, 252, 252,\n",
              "        233, 145,   0,   0,   0,   0,   0,   0,   0,   0,   0,   0,   0,\n",
              "          0,   0],\n",
              "       [  0,   0,   0,   0,   0,   0,   0,  25, 128, 252, 253, 252, 141,\n",
              "         37,   0,   0,   0,   0,   0,   0,   0,   0,   0,   0,   0,   0,\n",
              "          0,   0],\n",
              "       [  0,   0,   0,   0,   0,   0,   0,   0,   0,   0,   0,   0,   0,\n",
              "          0,   0,   0,   0,   0,   0,   0,   0,   0,   0,   0,   0,   0,\n",
              "          0,   0],\n",
              "       [  0,   0,   0,   0,   0,   0,   0,   0,   0,   0,   0,   0,   0,\n",
              "          0,   0,   0,   0,   0,   0,   0,   0,   0,   0,   0,   0,   0,\n",
              "          0,   0],\n",
              "       [  0,   0,   0,   0,   0,   0,   0,   0,   0,   0,   0,   0,   0,\n",
              "          0,   0,   0,   0,   0,   0,   0,   0,   0,   0,   0,   0,   0,\n",
              "          0,   0],\n",
              "       [  0,   0,   0,   0,   0,   0,   0,   0,   0,   0,   0,   0,   0,\n",
              "          0,   0,   0,   0,   0,   0,   0,   0,   0,   0,   0,   0,   0,\n",
              "          0,   0]], dtype=uint8)"
            ]
          },
          "metadata": {},
          "execution_count": 4
        }
      ]
    },
    {
      "cell_type": "code",
      "source": [
        "y_train"
      ],
      "metadata": {
        "colab": {
          "base_uri": "https://localhost:8080/"
        },
        "id": "8CJwWnuTRuoy",
        "outputId": "4b2009b0-d4a8-4f6a-bdf1-1800ab505712"
      },
      "execution_count": 5,
      "outputs": [
        {
          "output_type": "execute_result",
          "data": {
            "text/plain": [
              "array([5, 0, 4, ..., 5, 6, 8], dtype=uint8)"
            ]
          },
          "metadata": {},
          "execution_count": 5
        }
      ]
    },
    {
      "cell_type": "markdown",
      "source": [
        "HOw to explore a dataset"
      ],
      "metadata": {
        "id": "r7FQjOrwJKxW"
      }
    },
    {
      "cell_type": "code",
      "source": [
        "def display_some_examples(examples,labels):\n",
        "  plt.figure(figsize=(10,10))\n",
        "  for i in range(25):\n",
        "    idx = np.random.randint(0,examples.shape[0]-1)\n",
        "    img = examples[idx]\n",
        "    label = labels[idx]\n",
        "\n",
        "    plt.subplot(5,5,i+1)\n",
        "    plt.title(str(label))\n",
        "    plt.tight_layout()# see images and labels in a more clear way\n",
        "    plt.imshow(img,cmap='gray')\n",
        "  plt.show()\n"
      ],
      "metadata": {
        "id": "UG8WY1r2PNqW"
      },
      "execution_count": 6,
      "outputs": []
    },
    {
      "cell_type": "code",
      "source": [
        "display_some_examples(x_train,y_train)"
      ],
      "metadata": {
        "colab": {
          "base_uri": "https://localhost:8080/",
          "height": 729
        },
        "id": "-OHdvoBhRl0Q",
        "outputId": "484fbaaf-3625-4a8a-bcd0-61ea45f80737"
      },
      "execution_count": 7,
      "outputs": [
        {
          "output_type": "display_data",
          "data": {
            "text/plain": [
              "<Figure size 720x720 with 25 Axes>"
            ],
            "image/png": "[encoded data removed]"
          },
          "metadata": {
            "needs_background": "light"
          }
        }
      ]
    },
    {
      "cell_type": "markdown",
      "source": [
        "# sequential model"
      ],
      "metadata": {
        "id": "Jzzpr_r2ZYuK"
      }
    },
    {
      "cell_type": "code",
      "source": [
        "x_train =x_train.astype('float32')/255\n",
        "x_test = x_test.astype('float32')/255\n",
        "\n",
        "x_train = np.expand_dims(x_train,axis=-1) # dimension change otehr wise it wont work in our model\n",
        "x_test = np.expand_dims(x_test,axis=-1)"
      ],
      "metadata": {
        "id": "IJgh1zTjZ5wG"
      },
      "execution_count": 8,
      "outputs": []
    },
    {
      "cell_type": "code",
      "source": [
        "x_test.shape"
      ],
      "metadata": {
        "colab": {
          "base_uri": "https://localhost:8080/"
        },
        "id": "0UmvVBvibBSr",
        "outputId": "302b4118-e9b1-4e27-e569-93c5f8808d10"
      },
      "execution_count": 9,
      "outputs": [
        {
          "output_type": "execute_result",
          "data": {
            "text/plain": [
              "(10000, 28, 28, 1)"
            ]
          },
          "metadata": {},
          "execution_count": 9
        }
      ]
    },
    {
      "cell_type": "code",
      "source": [
        "\n",
        "seq_model = tf.keras.Sequential(\n",
        "    [\n",
        "     Input(shape=(28,28,1)) # here 1 rperesents 1 channel that is only gray\n",
        "     , Conv2D(32,(3,3),activation='relu'),\n",
        "     Conv2D(64,(3,3),activation='relu'),\n",
        "     MaxPool2D(),\n",
        "     BatchNormalization(),\n",
        "\n",
        "     Conv2D(128,(3,3),activation='relu'),\n",
        "     MaxPool2D(),\n",
        "     BatchNormalization(),# by this it can help in improving performance it takes output of previous layer and normlaizes the batches\n",
        "\n",
        "\n",
        "     GlobalAvgPool2D(),# takes output from batch normalization computes avg value accoding to axis and then feeds it to dense layers\n",
        "     Dense(64,activation='relu'),\n",
        "     Dense(10,activation='softmax') # 10 classes from 0-9\n",
        "    ]\n",
        ")"
      ],
      "metadata": {
        "id": "zWifuRVMRsBJ"
      },
      "execution_count": 10,
      "outputs": []
    },
    {
      "cell_type": "markdown",
      "source": [
        "# Functional Way to build Model\n",
        "\n",
        "- Basically pass output of previous layer as input to current layer\n",
        "\n",
        "- returns a model\n",
        "\n",
        "- MOre advantageous can create multiple models and is better than sequential model"
      ],
      "metadata": {
        "id": "QoP3YioYi33V"
      }
    },
    {
      "cell_type": "code",
      "source": [
        "def functional_model():\n",
        "     my_input = Input(shape=(28,28,1)) \n",
        "     x= Conv2D(32,(3,3),activation='relu')(my_input)\n",
        "     x=Conv2D(64,(3,3),activation='relu')(x)\n",
        "     x=MaxPool2D()(x)\n",
        "     x=BatchNormalization()(x)\n",
        "\n",
        "     x=Conv2D(128,(3,3),activation='relu')(x)\n",
        "     x=MaxPool2D()(x)\n",
        "     x=BatchNormalization()(x)\n",
        "\n",
        "     x=GlobalAvgPool2D()(x)\n",
        "     x=Dense(64,activation='relu')(x)\n",
        "     x=Dense(10,activation='softmax')(x)\n",
        "\n",
        "     model = tf.keras.Model(inputs=my_input,outputs=x)\n",
        "\n",
        "     return model"
      ],
      "metadata": {
        "id": "vPRO3Is4fws_"
      },
      "execution_count": 11,
      "outputs": []
    },
    {
      "cell_type": "code",
      "source": [
        "# model = functional_model()"
      ],
      "metadata": {
        "id": "hDARSAMikKJ8"
      },
      "execution_count": 12,
      "outputs": []
    },
    {
      "cell_type": "markdown",
      "source": [
        "# Inherit from class tensorflow.keras.model"
      ],
      "metadata": {
        "id": "RcBY1uOilMnJ"
      }
    },
    {
      "cell_type": "code",
      "source": [
        "class MyCustomModel(tf.keras.Model):\n",
        "  def __init__(self):\n",
        "    super().__init__()\n",
        "    self.conv1 = Conv2D(32,(3,3),activation='relu')\n",
        "    self.conv2=Conv2D(64,(3,3),activation='relu')\n",
        "    self.maxpool1=MaxPool2D()\n",
        "    self.batchnorm1=BatchNormalization()\n",
        "\n",
        "    self.conv3=Conv2D(128,(3,3),activation='relu')\n",
        "    self.maxpool2=MaxPool2D()\n",
        "    self.batchnorm2=BatchNormalization()\n",
        "\n",
        "    self.globalavgpool1=GlobalAvgPool2D()\n",
        "    self.dense1=Dense(64,activation='relu')\n",
        "    self.dense2=Dense(10,activation='softmax')\n",
        "\n",
        "  def call(self,my_input):\n",
        "     x=self.conv1(my_input)\n",
        "     x=self.conv2(x)\n",
        "     x=self.maxpool1(x)\n",
        "     x=self.batchnorm1(x)\n",
        "\n",
        "     x=self.conv3(x)\n",
        "     x=self.maxpool2(x)\n",
        "     x=self.batchnorm2(x)\n",
        "\n",
        "     x=  self.globalavgpool1(x)\n",
        "     x=self.dense1(x)\n",
        "     x=self.dense2(x)\n",
        "\n",
        "     return x\n",
        "\n",
        "     "
      ],
      "metadata": {
        "id": "VR-HwEPdlQqi"
      },
      "execution_count": 15,
      "outputs": []
    },
    {
      "cell_type": "code",
      "source": [
        "model=MyCustomModel()"
      ],
      "metadata": {
        "id": "uYUAANrrG__r"
      },
      "execution_count": 17,
      "outputs": []
    },
    {
      "cell_type": "markdown",
      "source": [
        "# Compile"
      ],
      "metadata": {
        "id": "CfoLr4B-fR2R"
      }
    },
    {
      "cell_type": "code",
      "source": [
        "# -- If we wanna use categorical cross entropy \n",
        "# to turn into one hotencoded\n",
        "\n",
        "y_train= tf.keras.utils.to_categorical(y_train,10)\n",
        "y_test = tf.keras.utils.to_categorical(y_test,10)\n",
        "\n",
        "# 10 outputs 0-9\n",
        "#---\n",
        "\n",
        "model.compile(optimizer='adam',loss='categorical_crossentropy',metrics='accuracy')\n",
        "\n",
        "# categorical -> needs to be one hot encoded\n",
        "# no one hotencoding use sparse categorical crossentropy "
      ],
      "metadata": {
        "id": "X7sZIfLTbSku"
      },
      "execution_count": 18,
      "outputs": []
    },
    {
      "cell_type": "markdown",
      "source": [
        "#model training"
      ],
      "metadata": {
        "id": "4fbPgLSdfIpX"
      }
    },
    {
      "cell_type": "code",
      "source": [
        "model.fit(x_train,y_train,batch_size=64,epochs=3,validation_split=0.2)"
      ],
      "metadata": {
        "colab": {
          "base_uri": "https://localhost:8080/"
        },
        "id": "XXy-4MC5fJeW",
        "outputId": "db18f5c8-7c14-4c21-8f1b-4200cafa42cd"
      },
      "execution_count": 19,
      "outputs": [
        {
          "output_type": "stream",
          "name": "stdout",
          "text": [
            "Epoch 1/3\n",
            "750/750 [==============================] - 23s 18ms/step - loss: 0.2298 - accuracy: 0.9375 - val_loss: 0.1538 - val_accuracy: 0.9562\n",
            "Epoch 2/3\n",
            "750/750 [==============================] - 13s 18ms/step - loss: 0.0529 - accuracy: 0.9843 - val_loss: 0.0565 - val_accuracy: 0.9822\n",
            "Epoch 3/3\n",
            "750/750 [==============================] - 12s 17ms/step - loss: 0.0353 - accuracy: 0.9892 - val_loss: 0.0955 - val_accuracy: 0.9699\n"
          ]
        },
        {
          "output_type": "execute_result",
          "data": {
            "text/plain": [
              "<keras.callbacks.History at 0x7f5a10059050>"
            ]
          },
          "metadata": {},
          "execution_count": 19
        }
      ]
    },
    {
      "cell_type": "markdown",
      "source": [
        "# evaluation"
      ],
      "metadata": {
        "id": "L_nVGmubfIsr"
      }
    },
    {
      "cell_type": "code",
      "source": [
        "\n",
        "model.evaluate(x_test,y_test,batch_size=64)"
      ],
      "metadata": {
        "colab": {
          "base_uri": "https://localhost:8080/"
        },
        "id": "opGXh4vqfJB9",
        "outputId": "695eb5bf-01c5-4f65-f74f-5c63fb3005ba"
      },
      "execution_count": 20,
      "outputs": [
        {
          "output_type": "stream",
          "name": "stdout",
          "text": [
            "157/157 [==============================] - 1s 7ms/step - loss: 0.0965 - accuracy: 0.9699\n"
          ]
        },
        {
          "output_type": "execute_result",
          "data": {
            "text/plain": [
              "[0.09645364433526993, 0.9699000120162964]"
            ]
          },
          "metadata": {},
          "execution_count": 20
        }
      ]
    },
    {
      "cell_type": "code",
      "source": [
        "y_train.shape"
      ],
      "metadata": {
        "colab": {
          "base_uri": "https://localhost:8080/"
        },
        "id": "XrEMasqNfuzx",
        "outputId": "c8d340c5-8fd6-4236-cd5b-da6c53c94bea"
      },
      "execution_count": 21,
      "outputs": [
        {
          "output_type": "execute_result",
          "data": {
            "text/plain": [
              "(60000, 10)"
            ]
          },
          "metadata": {},
          "execution_count": 21
        }
      ]
    },
    {
      "cell_type": "code",
      "source": [
        ""
      ],
      "metadata": {
        "id": "g4e0aJ5ukZB3"
      },
      "execution_count": 21,
      "outputs": []
    }
  ]
}
